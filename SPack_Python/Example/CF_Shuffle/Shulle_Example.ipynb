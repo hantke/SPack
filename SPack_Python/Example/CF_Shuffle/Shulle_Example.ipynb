{
 "cells": [
  {
   "cell_type": "code",
   "execution_count": 1,
   "metadata": {},
   "outputs": [],
   "source": [
    "#Main Libs\n",
    "import numpy as np\n",
    "\n",
    "import SPack_Python.RW as RW\n",
    "import SPack_Python.Advance as SPPA"
   ]
  },
  {
   "cell_type": "code",
   "execution_count": 2,
   "metadata": {},
   "outputs": [],
   "source": [
    "NBin  = 40\n",
    "Xmin  = -2.5\n",
    "Xmax  = 1.5\n",
    "Lbox  = 62.5\n",
    "iNBin = 10\n",
    "LIMIT = 30\n",
    "JN3\t= 3"
   ]
  },
  {
   "cell_type": "code",
   "execution_count": 3,
   "metadata": {},
   "outputs": [],
   "source": [
    "Mmin,Mmax,MNBin = 10.,15.,50\n",
    "#ONLY USE HALOES IN THESE RANGE"
   ]
  },
  {
   "cell_type": "code",
   "execution_count": 4,
   "metadata": {},
   "outputs": [
    {
     "name": "stdout",
     "output_type": "stream",
     "text": [
      "Read  data.txt\n"
     ]
    }
   ],
   "source": [
    "x,y,z,fofID,centralMvir,stellarMass,Type = RW.Read_Advance('data.txt', Nprop = 7, Sep = ',')"
   ]
  },
  {
   "cell_type": "code",
   "execution_count": 5,
   "metadata": {},
   "outputs": [],
   "source": [
    "mask = stellarMass > 0.1\n",
    "x_axis,Xi,Xi_err = SPPA.Xi(x[mask],y[mask],z[mask],NBin,Xmin,Xmax,Lbox,iNBin,LIMIT,JN3)\n"
   ]
  },
  {
   "cell_type": "code",
   "execution_count": 6,
   "metadata": {},
   "outputs": [],
   "source": [
    "Pos,HaloID,HaloMass,Type,HaloProp, GalProp= np.array([x,y,z]).T,fofID,np.log10(centralMvir+1e-10)+10,Type,[],stellarMass"
   ]
  },
  {
   "cell_type": "code",
   "execution_count": 7,
   "metadata": {},
   "outputs": [],
   "source": [
    "Pos,HaloID,HaloMass,Type,GalProp = SPPA.Shuffle(Pos,HaloID,HaloMass,Type,GalProp = GalProp,Lbox = Lbox,Mmin = Mmin,Mmax = Mmax,MNBin = MNBin)"
   ]
  },
  {
   "cell_type": "code",
   "execution_count": 8,
   "metadata": {},
   "outputs": [],
   "source": [
    "mask = GalProp > 0.1\n",
    "x,y,z = Pos.T\n",
    "x_axis2,Xi2,Xi_err2 = SPPA.Xi(x[mask],y[mask],z[mask],NBin,Xmin,Xmax,Lbox,iNBin,LIMIT,JN3)"
   ]
  },
  {
   "cell_type": "code",
   "execution_count": 9,
   "metadata": {},
   "outputs": [
    {
     "name": "stdout",
     "output_type": "stream",
     "text": [
      "-2.45 110317.089119 110317.089119 1.0\n",
      "-2.35 55289.0179047 55289.0179047 1.0\n",
      "-2.25 39255.7557546 39255.7557546 1.0\n",
      "-2.15 31247.5052989 31247.5052989 1.0\n",
      "-2.05 27261.3533522 27261.3533522 1.0\n",
      "-1.95 16569.6803649 16569.6803649 1.0\n",
      "-1.85 8304.01345139 8304.01345139 1.0\n",
      "-1.75 6206.03808667 6206.03808667 1.0\n",
      "-1.65 4537.23697308 4537.23697308 1.0\n",
      "-1.55 2878.81863025 2878.81863025 1.0\n",
      "-1.45 2269.71400104 2269.71400104 1.0\n",
      "-1.35 1468.79297597 1468.79297597 1.0\n",
      "-1.25 1035.84019611 1035.84019611 1.0\n",
      "-1.15 801.044969338 803.359673434 0.997118720079\n",
      "-1.05 546.567267329 547.727367472 0.99788197521\n",
      "-0.95 415.011291266 415.883432337 0.997902919414\n",
      "-0.85 285.450113078 286.17862303 0.997454352306\n",
      "-0.75 197.844290706 197.990338661 0.999262348072\n",
      "-0.65 140.893102779 141.405484373 0.996376508337\n",
      "-0.55 95.6481806547 95.7949230053 0.998468161506\n",
      "-0.45 64.6392630259 64.6668425482 0.999573513702\n",
      "-0.35 42.5961791179 42.3796265477 1.00510982724\n",
      "-0.25 26.9485008763 26.5720978653 1.01416534791\n",
      "-0.15 16.827850949 16.5709187944 1.01550500355\n",
      "-0.05 9.94554484587 9.70540411634 1.02474299129\n",
      "0.05 5.66809992156 5.43116826372 1.04362443702\n",
      "0.15 3.20291961437 3.06115157773 1.04631199502\n",
      "0.25 1.83683547754 1.72934418267 1.06215725935\n",
      "0.35 1.0516125 0.934277115034 1.12558948847\n",
      "0.45 0.518141330781 0.401884703529 1.28927855733\n",
      "0.55 0.231241806312 0.159774070911 1.44730496628\n",
      "0.65 0.119949995176 0.0585642527978 2.04817767574\n",
      "0.75 -0.0842622769552 -0.123625256872 0.681594352861\n",
      "0.85 -0.215913662393 -0.241937880546 0.892434297205\n",
      "0.95 -0.329881493752 -0.340484809056 0.968858183914\n",
      "1.05 -0.389970752325 -0.395690253475 0.985545509148\n",
      "1.15 -0.451692958502 -0.449823164859 1.00415673044\n",
      "1.25 -0.483915526188 -0.483656071996 1.00053644357\n",
      "1.35 -0.640321113731 -0.639115187052 1.00188686907\n",
      "1.45 -0.954474451383 -0.953411468139 1.00111492601\n"
     ]
    }
   ],
   "source": [
    "for i in range(len(Xi)):\n",
    "    print x_axis2[i],Xi[i],Xi2[i],Xi[i]/Xi2[i]"
   ]
  },
  {
   "cell_type": "code",
   "execution_count": null,
   "metadata": {},
   "outputs": [],
   "source": []
  },
  {
   "cell_type": "code",
   "execution_count": null,
   "metadata": {},
   "outputs": [],
   "source": []
  },
  {
   "cell_type": "code",
   "execution_count": null,
   "metadata": {},
   "outputs": [],
   "source": []
  },
  {
   "cell_type": "code",
   "execution_count": null,
   "metadata": {},
   "outputs": [],
   "source": []
  },
  {
   "cell_type": "code",
   "execution_count": null,
   "metadata": {},
   "outputs": [],
   "source": []
  },
  {
   "cell_type": "code",
   "execution_count": null,
   "metadata": {},
   "outputs": [],
   "source": []
  },
  {
   "cell_type": "code",
   "execution_count": null,
   "metadata": {},
   "outputs": [],
   "source": []
  },
  {
   "cell_type": "code",
   "execution_count": null,
   "metadata": {},
   "outputs": [],
   "source": []
  },
  {
   "cell_type": "code",
   "execution_count": null,
   "metadata": {},
   "outputs": [],
   "source": []
  },
  {
   "cell_type": "code",
   "execution_count": null,
   "metadata": {},
   "outputs": [],
   "source": []
  },
  {
   "cell_type": "code",
   "execution_count": null,
   "metadata": {},
   "outputs": [],
   "source": []
  },
  {
   "cell_type": "code",
   "execution_count": null,
   "metadata": {},
   "outputs": [],
   "source": []
  },
  {
   "cell_type": "code",
   "execution_count": null,
   "metadata": {},
   "outputs": [],
   "source": []
  },
  {
   "cell_type": "code",
   "execution_count": null,
   "metadata": {},
   "outputs": [],
   "source": []
  }
 ],
 "metadata": {
  "kernelspec": {
   "display_name": "Python 2",
   "language": "python",
   "name": "python2"
  },
  "language_info": {
   "codemirror_mode": {
    "name": "ipython",
    "version": 2
   },
   "file_extension": ".py",
   "mimetype": "text/x-python",
   "name": "python",
   "nbconvert_exporter": "python",
   "pygments_lexer": "ipython2",
   "version": "2.7.12"
  }
 },
 "nbformat": 4,
 "nbformat_minor": 2
}
