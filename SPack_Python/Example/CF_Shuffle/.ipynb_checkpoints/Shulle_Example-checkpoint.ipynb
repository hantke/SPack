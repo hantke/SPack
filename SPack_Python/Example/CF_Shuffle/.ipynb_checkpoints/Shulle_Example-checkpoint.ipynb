{
 "cells": [
  {
   "cell_type": "code",
   "execution_count": 1,
   "metadata": {},
   "outputs": [],
   "source": [
    "#Main Libs\n",
    "import numpy as np\n",
    "\n",
    "import SPack_Python.RW as RW\n",
    "import SPack_Python.Advance as SPPA"
   ]
  },
  {
   "cell_type": "code",
   "execution_count": 2,
   "metadata": {},
   "outputs": [],
   "source": [
    "NBin  = 40\n",
    "Xmin  = -2.5\n",
    "Xmax  = 1.5\n",
    "Lbox  = 62.5\n",
    "iNBin = 10\n",
    "LIMIT = 30\n",
    "JN3\t= 3"
   ]
  },
  {
   "cell_type": "code",
   "execution_count": 3,
   "metadata": {},
   "outputs": [],
   "source": [
    "Mmin,Mmax,MNBin = 10.,15.,50\n",
    "#ONLY USE HALOES IN THESE RANGE"
   ]
  },
  {
   "cell_type": "code",
   "execution_count": 4,
   "metadata": {},
   "outputs": [
    {
     "name": "stdout",
     "output_type": "stream",
     "text": [
      "Read  data.txt\n"
     ]
    }
   ],
   "source": [
    "x,y,z,fofID,centralMvir,stellarMass,Type = RW.Read_Advance('data.txt', Nprop = 7, Sep = ',')"
   ]
  },
  {
   "cell_type": "code",
   "execution_count": 5,
   "metadata": {},
   "outputs": [],
   "source": [
    "mask = stellarMass > 0.1\n",
    "x_axis,Xi,Xi_err = SPPA.Xi(x[mask],y[mask],z[mask],NBin,Xmin,Xmax,Lbox,iNBin,LIMIT,JN3)\n"
   ]
  },
  {
   "cell_type": "code",
   "execution_count": 6,
   "metadata": {},
   "outputs": [],
   "source": [
    "Pos,HaloID,HaloMass,Type,HaloProp, GalProp= np.array([x,y,z]).T,fofID,np.log10(centralMvir+1e-10)+10,Type,[],stellarMass"
   ]
  },
  {
   "cell_type": "code",
   "execution_count": 8,
   "metadata": {},
   "outputs": [],
   "source": [
    "Pos,HaloID,HaloMass,Type,GalProp = SPPA.Shuffle(Pos,HaloID,HaloMass,Type,GalProp = GalProp,Lbox = Lbox,Mmin = Mmin,Mmax = Mmax,MNBin = MNBin)"
   ]
  },
  {
   "cell_type": "code",
   "execution_count": 11,
   "metadata": {},
   "outputs": [],
   "source": [
    "mask = GalProp > 0.1\n",
    "x,y,z = Pos.T\n",
    "x_axis2,Xi2,Xi_err2 = SPPA.Xi(x[mask],y[mask],z[mask],NBin,Xmin,Xmax,Lbox,iNBin,LIMIT,JN3)"
   ]
  },
  {
   "cell_type": "code",
   "execution_count": 12,
   "metadata": {},
   "outputs": [
    {
     "name": "stdout",
     "output_type": "stream",
     "text": [
      "-2.45 110317.089119 110317.089119 1.0\n",
      "-2.35 55289.0179047 55289.0179047 1.0\n",
      "-2.25 39255.7557546 39255.7557546 1.0\n",
      "-2.15 31247.5052989 31247.5052989 1.0\n",
      "-2.05 27261.3533522 27261.3533522 1.0\n",
      "-1.95 16569.6803649 16569.6803649 1.0\n",
      "-1.85 8304.01345139 8304.01345139 1.0\n",
      "-1.75 6206.03808667 6206.03808667 1.0\n",
      "-1.65 4537.23697308 4537.23697308 1.0\n",
      "-1.55 2878.81863025 2878.81863025 1.0\n",
      "-1.45 2269.71400104 2269.71400104 1.0\n",
      "-1.35 1468.79297597 1468.79297597 1.0\n",
      "-1.25 1035.84019611 1038.14941703 0.997775637217\n",
      "-1.15 801.044969338 801.044969338 1.0\n",
      "-1.05 546.567267329 549.467517686 0.994721707356\n",
      "-0.95 415.011291266 416.174146028 0.997205845741\n",
      "-0.85 285.450113078 286.615729001 0.995933175311\n",
      "-0.75 197.844290706 198.355458548 0.99742297063\n",
      "-0.65 140.893102779 142.247254134 0.990480298807\n",
      "-0.55 95.6481806547 95.9600081497 0.996750443221\n",
      "-0.45 64.6392630259 64.3818541513 1.00399815877\n",
      "-0.35 42.5961791179 42.4487390701 1.00347336696\n",
      "-0.25 26.9485008763 26.5882624118 1.01354877799\n",
      "-0.15 16.827850949 16.5605026259 1.01614373242\n",
      "-0.05 9.94554484587 9.75064802191 1.01998808936\n",
      "0.05 5.66809992156 5.51053310125 1.02859375262\n",
      "0.15 3.20291961437 3.04454155083 1.05202033242\n",
      "0.25 1.83683547754 1.74555550568 1.0522927925\n",
      "0.35 1.0516125 1.00330223545 1.04815125776\n",
      "0.45 0.518141330781 0.448732198954 1.15467829585\n",
      "0.55 0.231241806312 0.202366046485 1.14269073458\n",
      "0.65 0.119949995176 0.0598174932036 2.00526616467\n",
      "0.75 -0.0842622769552 -0.126320117694 0.667053502589\n",
      "0.85 -0.215913662393 -0.224679446805 0.960985374777\n",
      "0.95 -0.329881493752 -0.340068333104 0.970044728189\n",
      "1.05 -0.389970752325 -0.395079464011 0.987069154055\n",
      "1.15 -0.451692958502 -0.452766782171 0.997628307307\n",
      "1.25 -0.483915526188 -0.481092711314 1.00586750705\n",
      "1.35 -0.640321113731 -0.641057296286 0.998851611925\n",
      "1.45 -0.954474451383 -0.953478125851 1.00104493801\n"
     ]
    }
   ],
   "source": [
    "for i in range(len(Xi)):\n",
    "    print x_axis2[i],Xi[i],Xi2[i],Xi[i]/Xi2[i]"
   ]
  },
  {
   "cell_type": "code",
   "execution_count": null,
   "metadata": {},
   "outputs": [],
   "source": [
    "\n"
   ]
  },
  {
   "cell_type": "code",
   "execution_count": null,
   "metadata": {},
   "outputs": [],
   "source": [
    "ind = np.where((HaloMass >= Mmin) & (HaloMass < Mmax))[0]\n",
    "print any((HaloMass < Mmin) | (HaloMass >= Mmax))\n",
    "print len(ind),len(HaloMass)"
   ]
  },
  {
   "cell_type": "code",
   "execution_count": null,
   "metadata": {},
   "outputs": [],
   "source": [
    " #CLEANING\n",
    "ind = np.where((HaloMass >= Mmin) & (HaloMass < Mmax))[0]\n",
    "Pos = Pos[ind]\n",
    "HaloID = HaloID[ind]\n",
    "Type = Type[ind]\n",
    "HaloProp = HaloProp[ind]\n",
    "HaloMass = HaloMass[ind]\n",
    "stellarMass = stellarMass[ind]\n",
    "#SORTING\n",
    "ind = np.lexsort((Type,HaloID))\n",
    "Pos = Pos[ind]\n",
    "HaloID = HaloID[ind]\n",
    "Type = Type[ind]\n",
    "HaloProp = HaloProp[ind]\n",
    "HaloMass = HaloMass[ind]\n",
    "Len = len(Pos)"
   ]
  },
  {
   "cell_type": "code",
   "execution_count": null,
   "metadata": {},
   "outputs": [],
   "source": [
    "Centrals = np.where(Type == 0)[0]\n",
    "NGr             = len(Centrals)\n",
    "Gr_Mass         = HaloMass[Centrals]\n",
    "Gr_Pos          = Pos[Centrals]\n",
    "Gr_Prop         = HaloProp[Centrals]\n",
    "Gr_ID           = HaloID[Centrals]\n",
    "Gr_ID2CentalGal = np.copy(Centrals)"
   ]
  },
  {
   "cell_type": "code",
   "execution_count": null,
   "metadata": {},
   "outputs": [],
   "source": [
    "for i in range(Len):\n",
    "    if Type[i] == 0:\n",
    "        Pos_Central = np.copy(Pos[i])\n",
    "    Pos[i] -= Pos_Central\n",
    "for i in range(len(Pos[0])):    \n",
    "    Cond1 = np.where(Pos[:,i] > Lbox/2.)[0]\n",
    "    Cond2 = np.where(Pos[:,i] < -Lbox/2.)[0]\n",
    "    Pos[:,i][Cond1]  = Pos[:,i][Cond1] - Lbox\n",
    "    Pos[:,i][Cond2]  = Pos[:,i][Cond2] + Lbox"
   ]
  },
  {
   "cell_type": "code",
   "execution_count": null,
   "metadata": {},
   "outputs": [],
   "source": [
    "iGr_Mass = ((Gr_Mass-Mmin)/(Mmax-Mmin)*MNBin).astype(int)"
   ]
  },
  {
   "cell_type": "code",
   "execution_count": null,
   "metadata": {},
   "outputs": [],
   "source": [
    "for i in range(MNBin):\n",
    "    tmpID = np.where(iGr_Mass == i)[0]\n",
    "    tmpID2 = np.copy(tmpID)\n",
    "    np.random.shuffle(tmpID2)\n",
    "    #Gr_Pos[tmpID] = Gr_Pos[tmpID2]\n",
    "    Gr_ID2CentalGal[tmpID] = Gr_ID2CentalGal[tmpID2]"
   ]
  },
  {
   "cell_type": "code",
   "execution_count": null,
   "metadata": {},
   "outputs": [],
   "source": [
    "for i in range(NGr):\n",
    "    Pos[Gr_ID2CentalGal[i]] = Gr_Pos[i]\n",
    "    HaloID[Gr_ID2CentalGal[i]] = Gr_ID[i]\n",
    "    HaloProp[Gr_ID2CentalGal[i]] = Gr_Prop[i]\n",
    "    HaloMass[Gr_ID2CentalGal[i]] = Gr_Mass[i]"
   ]
  },
  {
   "cell_type": "code",
   "execution_count": null,
   "metadata": {},
   "outputs": [],
   "source": [
    "for i in range(Len):\n",
    "    if Type[i] == 0:\n",
    "        CentralID = i\n",
    "    else:\n",
    "        Pos[i] += Pos[CentralID]\n",
    "        HaloID[i] += HaloID[CentralID]\n",
    "        HaloProp[i] += HaloProp[CentralID]\n",
    "        HaloMass[i] += HaloMass[CentralID]"
   ]
  },
  {
   "cell_type": "code",
   "execution_count": null,
   "metadata": {},
   "outputs": [],
   "source": [
    "mask = stellarMass > 0.1\n",
    "x,y,z = Pos.T\n",
    "x_axis2,Xi2,Xi_err2 = SPPA.Xi(x[mask],y[mask],z[mask],NBin,Xmin,Xmax,Lbox,iNBin,LIMIT,JN3)\n"
   ]
  },
  {
   "cell_type": "code",
   "execution_count": null,
   "metadata": {},
   "outputs": [],
   "source": [
    "for i in range(len(Xi)):\n",
    "    print x_axis2[i],Xi[i],Xi2[i],Xi[i]/Xi2[i]"
   ]
  },
  {
   "cell_type": "code",
   "execution_count": null,
   "metadata": {},
   "outputs": [],
   "source": [
    "Pos"
   ]
  },
  {
   "cell_type": "code",
   "execution_count": null,
   "metadata": {},
   "outputs": [],
   "source": [
    "Pos"
   ]
  },
  {
   "cell_type": "code",
   "execution_count": null,
   "metadata": {},
   "outputs": [],
   "source": []
  }
 ],
 "metadata": {
  "kernelspec": {
   "display_name": "Python 2",
   "language": "python",
   "name": "python2"
  },
  "language_info": {
   "codemirror_mode": {
    "name": "ipython",
    "version": 2
   },
   "file_extension": ".py",
   "mimetype": "text/x-python",
   "name": "python",
   "nbconvert_exporter": "python",
   "pygments_lexer": "ipython2",
   "version": "2.7.12"
  }
 },
 "nbformat": 4,
 "nbformat_minor": 2
}
